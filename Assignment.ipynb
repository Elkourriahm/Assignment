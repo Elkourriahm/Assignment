{
 "cells": [
  {
   "cell_type": "markdown",
   "metadata": {},
   "source": [
    "# Collecte the Data"
   ]
  },
  {
   "cell_type": "markdown",
   "metadata": {},
   "source": [
    "### import the libraries needed for data collection and web scraping"
   ]
  },
  {
   "cell_type": "code",
   "execution_count": 45,
   "metadata": {},
   "outputs": [],
   "source": [
    "import requests\n",
    "from bs4 import BeautifulSoup\n",
    "import pandas as pd\n",
    "import numpy as np"
   ]
  },
  {
   "cell_type": "markdown",
   "metadata": {},
   "source": [
    "### The function below allows to retrieve the urls of the issues and returns a list of these urls"
   ]
  },
  {
   "cell_type": "code",
   "execution_count": 46,
   "metadata": {},
   "outputs": [],
   "source": [
    "def get_all_pages(url):\n",
    "    response = requests.get(url)\n",
    "    url_issues = []\n",
    "    if response.ok: \n",
    "        soup = BeautifulSoup(response.text, 'html.parser')\n",
    "        a = soup.find_all('em',\"current\")\n",
    "        nb_pages = int(a[0].get(\"data-total-pages\"))\n",
    "    for i in range(1, nb_pages+1):\n",
    "        page = \"https://github.com/rails/rails/issues?page=\"+str(i)+\"&q=is%3Aissue+is%3Aopen\"\n",
    "        response = requests.get(page)\n",
    "        if response.ok:\n",
    "            soup = BeautifulSoup(response.text, 'html.parser')\n",
    "            url_issues += [x.get('href') for x in soup.find_all('a',\"d-block d-md-none position-absolute top-0 bottom-0 left-0 right-0\")]\n",
    "    return url_issues"
   ]
  },
  {
   "cell_type": "markdown",
   "metadata": {},
   "source": [
    "### this function takes as argument the url of an issue, then it browses the page which contains information on this issue such as the number of comments, the author ... and returns this information"
   ]
  },
  {
   "cell_type": "code",
   "execution_count": 47,
   "metadata": {},
   "outputs": [],
   "source": [
    "def get_info_issue(url):\n",
    "    url_issue = 'https://github.com'+url\n",
    "    response = requests.get(url_issue)\n",
    "    if response.ok: \n",
    "        soup = BeautifulSoup(response.text, 'html.parser')\n",
    "        name_issue = soup.find_all('span',\"js-issue-title markdown-title\")[0].string\n",
    "        author_issue = soup.find_all('a',\"author text-bold Link--secondary\")[0].string\n",
    "        date_issue = soup.find('relative-time',\"no-wrap\").text\n",
    "        number_of_comments = int(soup.find('div',\"flex-auto min-width-0 mb-2\").text.split(sep=\" \", maxsplit=10)[7])\n",
    "        issue_labels = np.unique([x.get('data-name') for x in soup.find_all('a', 'IssueLabel hx_IssueLabel width-fit mb-1 mr-1')]).tolist()\n",
    "        number_of_participants = int(soup.find('div', 'participation').text.split(sep=\" \", maxsplit=10)[6])\n",
    "    return name_issue, author_issue, date_issue, number_of_comments, issue_labels, number_of_participants"
   ]
  },
  {
   "cell_type": "code",
   "execution_count": 48,
   "metadata": {},
   "outputs": [],
   "source": [
    "list_url_issues = get_all_pages('https://github.com/rails/rails/issues')"
   ]
  },
  {
   "cell_type": "markdown",
   "metadata": {},
   "source": [
    "### we loop over the list of urls and apply the function get_info_issue and generate all the lists that contain the information about all the isuues"
   ]
  },
  {
   "cell_type": "code",
   "execution_count": 49,
   "metadata": {},
   "outputs": [],
   "source": [
    "list_of_names = []\n",
    "list_of_authors = []\n",
    "list_of_dates = []\n",
    "list_of_number_of_comments = []\n",
    "list_of_labels = []\n",
    "list_of_number_of_participants = []\n",
    "\n",
    "for url in list_url_issues:\n",
    "    name_issue, author_issue, date_issue, number_of_comments, issue_labels, number_of_participants = get_info_issue(url)\n",
    "    list_of_names.append(name_issue)\n",
    "    list_of_authors.append(author_issue)\n",
    "    list_of_dates.append(date_issue)\n",
    "    list_of_number_of_comments.append(number_of_comments)\n",
    "    list_of_labels.append(issue_labels)\n",
    "    list_of_number_of_participants.append(number_of_participants)"
   ]
  },
  {
   "cell_type": "code",
   "execution_count": 50,
   "metadata": {},
   "outputs": [],
   "source": [
    "# Function to convert a list of strings to one string\n",
    "def listToString(s): \n",
    "    str1 = \" \" \n",
    "    return (str1.join(s))\n",
    "\n",
    "# Structure and clean up the names of the issues\n",
    "labels = []\n",
    "for i in range(len(list_of_names)):\n",
    "    if list_of_names[i] != None:\n",
    "        list_of_names[i] = list_of_names[i].replace('\\n', '')\n",
    "        list_of_names[i] = list_of_names[i].replace(' ', '')\n",
    "    labels.append(listToString(list_of_labels[i]))"
   ]
  },
  {
   "cell_type": "markdown",
   "metadata": {},
   "source": [
    "### Save our data in a csv file"
   ]
  },
  {
   "cell_type": "code",
   "execution_count": 51,
   "metadata": {},
   "outputs": [],
   "source": [
    "df = pd.DataFrame(list(zip(list_of_names, list_of_authors, list_of_dates, list_of_number_of_comments, labels, list_of_number_of_participants)), columns =['issue name', 'author', 'date', 'number of comments', 'labels', 'number of participants'])"
   ]
  },
  {
   "cell_type": "code",
   "execution_count": 52,
   "metadata": {},
   "outputs": [],
   "source": [
    "df.to_csv('data.csv', index=False, sep=';')"
   ]
  },
  {
   "cell_type": "markdown",
   "metadata": {},
   "source": [
    "# Analyze the Data"
   ]
  },
  {
   "cell_type": "markdown",
   "metadata": {},
   "source": [
    "### Import the libraries that allow you to analyze and visualize the data we have collected"
   ]
  },
  {
   "cell_type": "code",
   "execution_count": 53,
   "metadata": {},
   "outputs": [],
   "source": [
    "import seaborn as sns\n",
    "import matplotlib.pyplot as plt\n",
    "import squarify"
   ]
  },
  {
   "cell_type": "markdown",
   "metadata": {},
   "source": [
    "## How do the number of issues evolve across time?"
   ]
  },
  {
   "cell_type": "markdown",
   "metadata": {},
   "source": [
    "### Sum the number of issues per year"
   ]
  },
  {
   "cell_type": "code",
   "execution_count": 54,
   "metadata": {},
   "outputs": [],
   "source": [
    "years = ['2012', '2013', '2014', '2015', '2016', '2017', '2018', '2019', '2020', '2021']\n",
    "number_of_issues = []\n",
    "for year in years:\n",
    "    i=0\n",
    "    for date in list_of_dates:\n",
    "        if year in date :\n",
    "            i += 1\n",
    "    number_of_issues.append(i)"
   ]
  },
  {
   "cell_type": "code",
   "execution_count": 55,
   "metadata": {},
   "outputs": [],
   "source": [
    "df = pd.DataFrame(list(zip(years, number_of_issues)), columns = ['year', 'number of issues'])"
   ]
  },
  {
   "cell_type": "code",
   "execution_count": 56,
   "metadata": {},
   "outputs": [
    {
     "data": {
      "image/png": "[encoded data removed]",
      "text/plain": [
       "<Figure size 432x288 with 1 Axes>"
      ]
     },
     "metadata": {
      "needs_background": "light"
     },
     "output_type": "display_data"
    }
   ],
   "source": [
    "plt.plot( 'year', 'number of issues', data=df, linestyle='-', marker='o')\n",
    "plt.show()"
   ]
  },
  {
   "cell_type": "markdown",
   "metadata": {},
   "source": [
    "## Are there any periods in which we get more issues?"
   ]
  },
  {
   "cell_type": "markdown",
   "metadata": {},
   "source": [
    "### Sum the number of issues per month"
   ]
  },
  {
   "cell_type": "code",
   "execution_count": 57,
   "metadata": {},
   "outputs": [],
   "source": [
    "months = ['Jan', 'Feb', 'Mar', 'Apr', 'May', 'Jun', 'Jul', 'Aug', 'Sep', 'Oct', 'Nov', 'Dec']\n",
    "number_of_issues = []\n",
    "for month in months:\n",
    "    i=0\n",
    "    for date in list_of_dates:\n",
    "        if month in date :\n",
    "            i += 1\n",
    "    number_of_issues.append(i)"
   ]
  },
  {
   "cell_type": "code",
   "execution_count": 58,
   "metadata": {},
   "outputs": [
    {
     "data": {
      "image/png": "[encoded data removed]",
      "text/plain": [
       "<Figure size 432x288 with 1 Axes>"
      ]
     },
     "metadata": {
      "needs_background": "light"
     },
     "output_type": "display_data"
    }
   ],
   "source": [
    "df = pd.DataFrame(list(zip(months, number_of_issues)), columns = ['month', 'number of issues'])\n",
    "plt.plot( 'month', 'number of issues', data=df, linestyle='-', marker='o')\n",
    "plt.show()"
   ]
  },
  {
   "cell_type": "markdown",
   "metadata": {},
   "source": [
    "## Is there anyone who reports more issues than others?"
   ]
  },
  {
   "cell_type": "code",
   "execution_count": 59,
   "metadata": {},
   "outputs": [],
   "source": [
    "authors = np.unique(list_of_authors).tolist()"
   ]
  },
  {
   "cell_type": "code",
   "execution_count": 60,
   "metadata": {},
   "outputs": [],
   "source": [
    "number_of_issues = []\n",
    "for author in authors:\n",
    "    i=0\n",
    "    for aut in list_of_authors:\n",
    "        if author == aut :\n",
    "            i += 1\n",
    "    number_of_issues.append(i)"
   ]
  },
  {
   "cell_type": "code",
   "execution_count": 61,
   "metadata": {},
   "outputs": [],
   "source": [
    "top_5_idx = np.argsort(number_of_issues)[-5:]\n",
    "top_5_issues = [number_of_issues[i] for i in top_5_idx]\n",
    "top_5_authors = [authors[i] for i in top_5_idx]"
   ]
  },
  {
   "cell_type": "code",
   "execution_count": 62,
   "metadata": {},
   "outputs": [
    {
     "data": {
      "image/png": "[encoded data removed]",
      "text/plain": [
       "<Figure size 432x288 with 1 Axes>"
      ]
     },
     "metadata": {
      "needs_background": "light"
     },
     "output_type": "display_data"
    }
   ],
   "source": [
    "y_pos = np.arange(len(top_5_authors))\n",
    "plt.barh(y_pos, top_5_issues)\n",
    "plt.yticks(y_pos, top_5_authors)\n",
    "plt.show()"
   ]
  },
  {
   "cell_type": "markdown",
   "metadata": {},
   "source": [
    "## What is the most popular category (label)? "
   ]
  },
  {
   "cell_type": "code",
   "execution_count": 63,
   "metadata": {},
   "outputs": [],
   "source": [
    "all_labels = [j for sub in list_of_labels for j in sub]"
   ]
  },
  {
   "cell_type": "code",
   "execution_count": 64,
   "metadata": {},
   "outputs": [],
   "source": [
    "labels = np.unique(all_labels).tolist()"
   ]
  },
  {
   "cell_type": "code",
   "execution_count": 65,
   "metadata": {},
   "outputs": [],
   "source": [
    "number_of_label = []\n",
    "for label in labels:\n",
    "    i=0\n",
    "    for lab in all_labels:\n",
    "        if label == lab :\n",
    "            i += 1\n",
    "    number_of_label.append(i)"
   ]
  },
  {
   "cell_type": "markdown",
   "metadata": {},
   "source": [
    "###  Have the top 5 labels that have been used the most"
   ]
  },
  {
   "cell_type": "code",
   "execution_count": 66,
   "metadata": {},
   "outputs": [],
   "source": [
    "top_5_idx = np.argsort(number_of_label)[-5:]\n",
    "top_5_number_labels = [number_of_label[i] for i in top_5_idx]\n",
    "top_5_labels = [labels[i] for i in top_5_idx]"
   ]
  },
  {
   "cell_type": "code",
   "execution_count": 67,
   "metadata": {},
   "outputs": [
    {
     "data": {
      "image/png": "[encoded data removed]",
      "text/plain": [
       "<Figure size 432x288 with 1 Axes>"
      ]
     },
     "metadata": {
      "needs_background": "light"
     },
     "output_type": "display_data"
    }
   ],
   "source": [
    "y_pos = np.arange(len(top_5_labels))\n",
    "plt.barh(y_pos, top_5_number_labels)\n",
    "plt.yticks(y_pos, top_5_labels)\n",
    "plt.show()"
   ]
  },
  {
   "cell_type": "markdown",
   "metadata": {},
   "source": [
    "## Suggestion :  Issues that had the more participants"
   ]
  },
  {
   "cell_type": "code",
   "execution_count": 34,
   "metadata": {},
   "outputs": [],
   "source": [
    "top_5_idx = np.argsort(list_of_number_of_comments)[-5:]\n",
    "top_5_list_of_number_of_participants = [list_of_number_of_participants[i] for i in top_5_idx]\n",
    "top_5_list_of_names = [list_of_names[i] for i in top_5_idx]"
   ]
  },
  {
   "cell_type": "code",
   "execution_count": 37,
   "metadata": {},
   "outputs": [],
   "source": [
    "df = pd.DataFrame(list(zip(top_5_list_of_names, top_5_list_of_number_of_participants)), columns = ['issue', 'number of participants'])"
   ]
  },
  {
   "cell_type": "code",
   "execution_count": 38,
   "metadata": {},
   "outputs": [
    {
     "data": {
      "text/html": [
       "<div>\n",
       "<style scoped>\n",
       "    .dataframe tbody tr th:only-of-type {\n",
       "        vertical-align: middle;\n",
       "    }\n",
       "\n",
       "    .dataframe tbody tr th {\n",
       "        vertical-align: top;\n",
       "    }\n",
       "\n",
       "    .dataframe thead th {\n",
       "        text-align: right;\n",
       "    }\n",
       "</style>\n",
       "<table border=\"1\" class=\"dataframe\">\n",
       "  <thead>\n",
       "    <tr style=\"text-align: right;\">\n",
       "      <th></th>\n",
       "      <th>issue</th>\n",
       "      <th>number of participants</th>\n",
       "    </tr>\n",
       "  </thead>\n",
       "  <tbody>\n",
       "    <tr>\n",
       "      <th>0</th>\n",
       "      <td>render_to_stringchangescontent-typeforsubseque...</td>\n",
       "      <td>22</td>\n",
       "    </tr>\n",
       "    <tr>\n",
       "      <th>1</th>\n",
       "      <td>Rack::ETagmiddlewaredoesn'tplaynicewithLivestr...</td>\n",
       "      <td>10</td>\n",
       "    </tr>\n",
       "    <tr>\n",
       "      <th>2</th>\n",
       "      <td>NoMethodError-undefinedmethod`build'onActiveRe...</td>\n",
       "      <td>7</td>\n",
       "    </tr>\n",
       "    <tr>\n",
       "      <th>3</th>\n",
       "      <td>Livestreamingthreadsnotdying</td>\n",
       "      <td>36</td>\n",
       "    </tr>\n",
       "    <tr>\n",
       "      <th>4</th>\n",
       "      <td>accepts_nested_attributes_forbreakstheuniquene...</td>\n",
       "      <td>47</td>\n",
       "    </tr>\n",
       "  </tbody>\n",
       "</table>\n",
       "</div>"
      ],
      "text/plain": [
       "                                               issue  number of participants\n",
       "0  render_to_stringchangescontent-typeforsubseque...                      22\n",
       "1  Rack::ETagmiddlewaredoesn'tplaynicewithLivestr...                      10\n",
       "2  NoMethodError-undefinedmethod`build'onActiveRe...                       7\n",
       "3                       Livestreamingthreadsnotdying                      36\n",
       "4  accepts_nested_attributes_forbreakstheuniquene...                      47"
      ]
     },
     "execution_count": 38,
     "metadata": {},
     "output_type": "execute_result"
    }
   ],
   "source": [
    "df"
   ]
  },
  {
   "cell_type": "code",
   "execution_count": 36,
   "metadata": {},
   "outputs": [
    {
     "data": {
      "image/png": "[encoded data removed]",
      "text/plain": [
       "<Figure size 432x288 with 1 Axes>"
      ]
     },
     "metadata": {},
     "output_type": "display_data"
    }
   ],
   "source": [
    "plt.pie(top_5_list_of_number_of_participants, labels=top_5_list_of_names, labeldistance=1.15, wedgeprops = { 'linewidth' : 3, 'edgecolor' : 'white' });"
   ]
  }
 ],
 "metadata": {
  "kernelspec": {
   "display_name": "Python 3",
   "language": "python",
   "name": "python3"
  },
  "language_info": {
   "codemirror_mode": {
    "name": "ipython",
    "version": 3
   },
   "file_extension": ".py",
   "mimetype": "text/x-python",
   "name": "python",
   "nbconvert_exporter": "python",
   "pygments_lexer": "ipython3",
   "version": "3.8.5"
  }
 },
 "nbformat": 4,
 "nbformat_minor": 4
}
